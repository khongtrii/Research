{
 "cells": [
  {
   "cell_type": "code",
   "execution_count": 25,
   "metadata": {},
   "outputs": [],
   "source": [
    "import pandas as pd\n",
    "import cv2\n",
    "import matplotlib.pyplot as plt\n",
    "import numpy as np"
   ]
  },
  {
   "cell_type": "code",
   "execution_count": 2,
   "metadata": {},
   "outputs": [
    {
     "name": "stderr",
     "output_type": "stream",
     "text": [
      "2024-10-13 10:13:26.626413: I tensorflow/core/platform/cpu_feature_guard.cc:210] This TensorFlow binary is optimized to use available CPU instructions in performance-critical operations.\n",
      "To enable the following instructions: AVX2 FMA, in other operations, rebuild TensorFlow with the appropriate compiler flags.\n"
     ]
    }
   ],
   "source": [
    "import tensorflow as tf"
   ]
  },
  {
   "cell_type": "code",
   "execution_count": 3,
   "metadata": {},
   "outputs": [],
   "source": [
    "CONFIGURATION = {\n",
    "    \"BATCH_SIZE\": 32,\n",
    "    \"IM_SIZE\": 256,\n",
    "    \"LEARNING_RATE\": 1e-3,\n",
    "    \"N_EPOCHS\": 20,\n",
    "    \"DROPOUT_RATE\": 0.0,\n",
    "    \"REGULARIZATION_RATE\": 0.0,\n",
    "    \"N_FILTERS\": 6,\n",
    "    \"KERNEL_SIZE\": 3,\n",
    "    \"N_STRIDES\": 1,\n",
    "    \"POOL_SIZE\": 2,\n",
    "    \"N_DENSE_1\": 1024,\n",
    "    \"N_DENSE_2\": 128,\n",
    "    \"NUM_CLASSES\": 3,\n",
    "    \"PATCH_SIZE\": 16,\n",
    "    \"PROJ_DIM\": 768,\n",
    "    \"CLASS_NAMES\": [\"angry\", \"happy\", \"sad\"],\n",
    "}"
   ]
  },
  {
   "cell_type": "code",
   "execution_count": 4,
   "metadata": {},
   "outputs": [],
   "source": [
    "df = pd.read_csv(\"./Handwritten_Signature_Dataset/file_identity.csv\")"
   ]
  },
  {
   "cell_type": "code",
   "execution_count": 5,
   "metadata": {},
   "outputs": [
    {
     "data": {
      "text/html": [
       "<div>\n",
       "<style scoped>\n",
       "    .dataframe tbody tr th:only-of-type {\n",
       "        vertical-align: middle;\n",
       "    }\n",
       "\n",
       "    .dataframe tbody tr th {\n",
       "        vertical-align: top;\n",
       "    }\n",
       "\n",
       "    .dataframe thead th {\n",
       "        text-align: right;\n",
       "    }\n",
       "</style>\n",
       "<table border=\"1\" class=\"dataframe\">\n",
       "  <thead>\n",
       "    <tr style=\"text-align: right;\">\n",
       "      <th></th>\n",
       "      <th>FILENAME</th>\n",
       "      <th>IDENTITY</th>\n",
       "      <th>VIETNAMESE IDENTITY</th>\n",
       "    </tr>\n",
       "  </thead>\n",
       "  <tbody>\n",
       "    <tr>\n",
       "      <th>0</th>\n",
       "      <td>FILE_1.png</td>\n",
       "      <td>BUI DUONG QUOC THAI</td>\n",
       "      <td>BÙI DƯƠNG QUỐC THÁI</td>\n",
       "    </tr>\n",
       "    <tr>\n",
       "      <th>1</th>\n",
       "      <td>FILE_2.png</td>\n",
       "      <td>CUONG</td>\n",
       "      <td>CƯỜNG</td>\n",
       "    </tr>\n",
       "    <tr>\n",
       "      <th>2</th>\n",
       "      <td>FILE_3.png</td>\n",
       "      <td>DANG NGOC TRAM ANH</td>\n",
       "      <td>ĐẶNG NGỌC TRÂM ANH</td>\n",
       "    </tr>\n",
       "    <tr>\n",
       "      <th>3</th>\n",
       "      <td>FILE_4.png</td>\n",
       "      <td>DINH PHUONG TIN</td>\n",
       "      <td>ĐINH PHƯƠNG TÍN</td>\n",
       "    </tr>\n",
       "    <tr>\n",
       "      <th>4</th>\n",
       "      <td>FILE_5.png</td>\n",
       "      <td>DINH THI TUYET NHUNG</td>\n",
       "      <td>ĐINH THỊ TUYẾT NHUNG</td>\n",
       "    </tr>\n",
       "  </tbody>\n",
       "</table>\n",
       "</div>"
      ],
      "text/plain": [
       "     FILENAME              IDENTITY   VIETNAMESE IDENTITY\n",
       "0  FILE_1.png   BUI DUONG QUOC THAI   BÙI DƯƠNG QUỐC THÁI\n",
       "1  FILE_2.png                 CUONG                 CƯỜNG\n",
       "2  FILE_3.png    DANG NGOC TRAM ANH    ĐẶNG NGỌC TRÂM ANH\n",
       "3  FILE_4.png       DINH PHUONG TIN       ĐINH PHƯƠNG TÍN\n",
       "4  FILE_5.png  DINH THI TUYET NHUNG  ĐINH THỊ TUYẾT NHUNG"
      ]
     },
     "execution_count": 5,
     "metadata": {},
     "output_type": "execute_result"
    }
   ],
   "source": [
    "df.head()"
   ]
  },
  {
   "cell_type": "code",
   "execution_count": null,
   "metadata": {},
   "outputs": [],
   "source": [
    "plt.figure(figsize=(8, 8))\n",
    "for i in range(6):\n",
    "    plt.subplot(3, 2, i+1)\n",
    "    dir = \"./Handwritten_Signature_Dataset/train/\" + df.loc[i, \"FILENAME\"]\n",
    "    img = cv2.imread(dir)\n",
    "    plt.title(df.loc[i, \"VIETNAMESE IDENTITY\"])\n",
    "    plt.imshow(img)\n",
    "    plt.subplots_adjust(hspace=1)"
   ]
  },
  {
   "cell_type": "code",
   "execution_count": 41,
   "metadata": {},
   "outputs": [],
   "source": [
    "IM_SIZE = 224\n",
    "@tf.function\n",
    "def resizing_rescale(image):\n",
    "    image = tf.image.resize(image, (IM_SIZE, IM_SIZE))/255.\n",
    "    image = tf.image.rgb_to_grayscale(image)\n",
    "    return image"
   ]
  },
  {
   "cell_type": "code",
   "execution_count": null,
   "metadata": {},
   "outputs": [],
   "source": [
    "train_dataset = []\n",
    "for i in range(len(df)):\n",
    "    dir = \"./Handwritten_Signature_Dataset/train/\" + df.loc[i, \"FILENAME\"]\n",
    "    img = cv2.imread(dir, cv2.IMREAD_GRAYSCALE)\n",
    "    img = cv2.resize(img, (256, 256))\n",
    "    train_dataset.append(img)"
   ]
  }
 ],
 "metadata": {
  "kernelspec": {
   "display_name": "Python 3",
   "language": "python",
   "name": "python3"
  },
  "language_info": {
   "codemirror_mode": {
    "name": "ipython",
    "version": 3
   },
   "file_extension": ".py",
   "mimetype": "text/x-python",
   "name": "python",
   "nbconvert_exporter": "python",
   "pygments_lexer": "ipython3",
   "version": "3.12.7"
  }
 },
 "nbformat": 4,
 "nbformat_minor": 2
}
